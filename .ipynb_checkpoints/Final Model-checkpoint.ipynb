{
 "cells": [
  {
   "cell_type": "code",
   "execution_count": 53,
   "id": "85a6b654-267e-4b0f-94b2-c6bc15baebb5",
   "metadata": {
    "tags": []
   },
   "outputs": [],
   "source": [
    "# !pip install keybert"
   ]
  },
  {
   "cell_type": "code",
   "execution_count": 54,
   "id": "18fa9e55-edb7-4aed-bd7f-8cbf5b98e527",
   "metadata": {
    "tags": []
   },
   "outputs": [],
   "source": [
    "# !pip install keybert[flair]\n",
    "# !pip install keybert[gensim]\n",
    "# !pip install keybert[spacy]\n",
    "# !pip install keybert[use]"
   ]
  },
  {
   "cell_type": "code",
   "execution_count": 55,
   "id": "e1e08c35-5b6c-422c-93e4-99f3e0b75f40",
   "metadata": {
    "tags": []
   },
   "outputs": [],
   "source": [
    "# !pip install spacy"
   ]
  },
  {
   "cell_type": "code",
   "execution_count": 4,
   "id": "71ebdfd5-28b5-4ee6-bb03-48dd3ab0ad7b",
   "metadata": {
    "tags": []
   },
   "outputs": [
    {
     "name": "stderr",
     "output_type": "stream",
     "text": [
      "C:\\Users\\thakr\\AppData\\Local\\Programs\\Python\\Python311\\Lib\\site-packages\\tqdm\\auto.py:22: TqdmWarning: IProgress not found. Please update jupyter and ipywidgets. See https://ipywidgets.readthedocs.io/en/stable/user_install.html\n",
      "  from .autonotebook import tqdm as notebook_tqdm\n"
     ]
    }
   ],
   "source": [
    "import pandas as pd\n",
    "import numpy as np\n",
    "import matplotlib.pyplot as plt\n",
    "import sklearn\n",
    "from statistics import mean\n",
    "from keybert import KeyBERT"
   ]
  },
  {
   "cell_type": "code",
   "execution_count": 6,
   "id": "a51b73b5-ce5e-41b9-92ae-a6283d03c904",
   "metadata": {
    "tags": []
   },
   "outputs": [],
   "source": [
    "data = pd.read_csv('Datasets/CleanedDataset.csv')"
   ]
  },
  {
   "cell_type": "code",
   "execution_count": 7,
   "id": "8df6866b-d155-44e8-bf39-abfa8136a038",
   "metadata": {
    "tags": []
   },
   "outputs": [
    {
     "data": {
      "text/html": [
       "<div>\n",
       "<style scoped>\n",
       "    .dataframe tbody tr th:only-of-type {\n",
       "        vertical-align: middle;\n",
       "    }\n",
       "\n",
       "    .dataframe tbody tr th {\n",
       "        vertical-align: top;\n",
       "    }\n",
       "\n",
       "    .dataframe thead th {\n",
       "        text-align: right;\n",
       "    }\n",
       "</style>\n",
       "<table border=\"1\" class=\"dataframe\">\n",
       "  <thead>\n",
       "    <tr style=\"text-align: right;\">\n",
       "      <th></th>\n",
       "      <th>last_updated</th>\n",
       "      <th>tweet_id</th>\n",
       "      <th>created_at</th>\n",
       "      <th>full_text</th>\n",
       "      <th>processed_tweet</th>\n",
       "      <th>Party</th>\n",
       "      <th>quote_count</th>\n",
       "      <th>reply_count</th>\n",
       "      <th>retweet_count</th>\n",
       "      <th>Importance</th>\n",
       "      <th>...</th>\n",
       "      <th>Neutral</th>\n",
       "      <th>Positive</th>\n",
       "      <th>Negative</th>\n",
       "      <th>Compound</th>\n",
       "      <th>hashtags</th>\n",
       "      <th>user_mentions_screen_name</th>\n",
       "      <th>City</th>\n",
       "      <th>State</th>\n",
       "      <th>Country</th>\n",
       "      <th>Score</th>\n",
       "    </tr>\n",
       "  </thead>\n",
       "  <tbody>\n",
       "    <tr>\n",
       "      <th>0</th>\n",
       "      <td>2019-02-08 17:29:00</td>\n",
       "      <td>1.090000e+18</td>\n",
       "      <td>2019-02-08 17:28:00</td>\n",
       "      <td>@DasComrade Sir any comment on modi's grand en...</td>\n",
       "      <td>dascomrad sir comment modi grand entri</td>\n",
       "      <td>BJP</td>\n",
       "      <td>0.0</td>\n",
       "      <td>0.0</td>\n",
       "      <td>1.0</td>\n",
       "      <td>0</td>\n",
       "      <td>...</td>\n",
       "      <td>0.625</td>\n",
       "      <td>0.375</td>\n",
       "      <td>0.000</td>\n",
       "      <td>0.4588</td>\n",
       "      <td>NaN</td>\n",
       "      <td>DasComrade</td>\n",
       "      <td>Guwahati</td>\n",
       "      <td>Assam</td>\n",
       "      <td>India</td>\n",
       "      <td>0.045645</td>\n",
       "    </tr>\n",
       "    <tr>\n",
       "      <th>1</th>\n",
       "      <td>2019-02-08 17:29:00</td>\n",
       "      <td>1.090000e+18</td>\n",
       "      <td>2019-02-07 05:10:00</td>\n",
       "      <td>Congress made Vemula national talking point ev...</td>\n",
       "      <td>congress made vemula nation talk point even th...</td>\n",
       "      <td>BJP</td>\n",
       "      <td>47.0</td>\n",
       "      <td>72.0</td>\n",
       "      <td>2353.0</td>\n",
       "      <td>1</td>\n",
       "      <td>...</td>\n",
       "      <td>0.868</td>\n",
       "      <td>0.000</td>\n",
       "      <td>0.132</td>\n",
       "      <td>-0.5719</td>\n",
       "      <td>NaN</td>\n",
       "      <td>NaN</td>\n",
       "      <td>Mumbai</td>\n",
       "      <td>Maharashtra</td>\n",
       "      <td>India</td>\n",
       "      <td>108.990410</td>\n",
       "    </tr>\n",
       "    <tr>\n",
       "      <th>2</th>\n",
       "      <td>2019-02-08 17:30:00</td>\n",
       "      <td>1.090000e+18</td>\n",
       "      <td>2019-02-08 10:18:00</td>\n",
       "      <td>BJP has been winning battles over the past mon...</td>\n",
       "      <td>bjp win battl past month bengal pm modi arriv ...</td>\n",
       "      <td>BJP</td>\n",
       "      <td>1.0</td>\n",
       "      <td>12.0</td>\n",
       "      <td>513.0</td>\n",
       "      <td>1</td>\n",
       "      <td>...</td>\n",
       "      <td>0.582</td>\n",
       "      <td>0.276</td>\n",
       "      <td>0.142</td>\n",
       "      <td>0.5719</td>\n",
       "      <td>NaN</td>\n",
       "      <td>NaN</td>\n",
       "      <td>Kolkata</td>\n",
       "      <td>West Bengal</td>\n",
       "      <td>India</td>\n",
       "      <td>24.487725</td>\n",
       "    </tr>\n",
       "    <tr>\n",
       "      <th>3</th>\n",
       "      <td>2019-02-08 17:30:00</td>\n",
       "      <td>1.090000e+18</td>\n",
       "      <td>2019-02-08 17:29:00</td>\n",
       "      <td>@inclusivemind2 @Ark82876233 @BJP4India @Rahul...</td>\n",
       "      <td>inclusivemind ark bjpindia rahul gandhi bjp th...</td>\n",
       "      <td>Other</td>\n",
       "      <td>0.0</td>\n",
       "      <td>0.0</td>\n",
       "      <td>2.0</td>\n",
       "      <td>0</td>\n",
       "      <td>...</td>\n",
       "      <td>0.884</td>\n",
       "      <td>0.116</td>\n",
       "      <td>0.000</td>\n",
       "      <td>0.4404</td>\n",
       "      <td>NaN</td>\n",
       "      <td>inclusivemind2,Ark82876233,BJP4India,RahulGandhi</td>\n",
       "      <td>Aligarh</td>\n",
       "      <td>Uttar Pradesh</td>\n",
       "      <td>India</td>\n",
       "      <td>0.091290</td>\n",
       "    </tr>\n",
       "    <tr>\n",
       "      <th>4</th>\n",
       "      <td>2019-02-08 17:30:00</td>\n",
       "      <td>1.090000e+18</td>\n",
       "      <td>2019-02-08 14:19:00</td>\n",
       "      <td>Senior Congress leader @ManishTewari : There w...</td>\n",
       "      <td>senior congress leader manishtewari jpc defini...</td>\n",
       "      <td>Congress</td>\n",
       "      <td>0.0</td>\n",
       "      <td>1.0</td>\n",
       "      <td>159.0</td>\n",
       "      <td>1</td>\n",
       "      <td>...</td>\n",
       "      <td>1.000</td>\n",
       "      <td>0.000</td>\n",
       "      <td>0.000</td>\n",
       "      <td>0.0000</td>\n",
       "      <td>NaN</td>\n",
       "      <td>ManishTewari</td>\n",
       "      <td>New Delhi</td>\n",
       "      <td>Delhi</td>\n",
       "      <td>India</td>\n",
       "      <td>8.263217</td>\n",
       "    </tr>\n",
       "  </tbody>\n",
       "</table>\n",
       "<p>5 rows × 21 columns</p>\n",
       "</div>"
      ],
      "text/plain": [
       "          last_updated      tweet_id           created_at  \\\n",
       "0  2019-02-08 17:29:00  1.090000e+18  2019-02-08 17:28:00   \n",
       "1  2019-02-08 17:29:00  1.090000e+18  2019-02-07 05:10:00   \n",
       "2  2019-02-08 17:30:00  1.090000e+18  2019-02-08 10:18:00   \n",
       "3  2019-02-08 17:30:00  1.090000e+18  2019-02-08 17:29:00   \n",
       "4  2019-02-08 17:30:00  1.090000e+18  2019-02-08 14:19:00   \n",
       "\n",
       "                                           full_text  \\\n",
       "0  @DasComrade Sir any comment on modi's grand en...   \n",
       "1  Congress made Vemula national talking point ev...   \n",
       "2  BJP has been winning battles over the past mon...   \n",
       "3  @inclusivemind2 @Ark82876233 @BJP4India @Rahul...   \n",
       "4  Senior Congress leader @ManishTewari : There w...   \n",
       "\n",
       "                                     processed_tweet     Party  quote_count  \\\n",
       "0             dascomrad sir comment modi grand entri       BJP          0.0   \n",
       "1  congress made vemula nation talk point even th...       BJP         47.0   \n",
       "2  bjp win battl past month bengal pm modi arriv ...       BJP          1.0   \n",
       "3  inclusivemind ark bjpindia rahul gandhi bjp th...     Other          0.0   \n",
       "4  senior congress leader manishtewari jpc defini...  Congress          0.0   \n",
       "\n",
       "   reply_count  retweet_count  Importance  ...  Neutral  Positive  Negative  \\\n",
       "0          0.0            1.0           0  ...    0.625     0.375     0.000   \n",
       "1         72.0         2353.0           1  ...    0.868     0.000     0.132   \n",
       "2         12.0          513.0           1  ...    0.582     0.276     0.142   \n",
       "3          0.0            2.0           0  ...    0.884     0.116     0.000   \n",
       "4          1.0          159.0           1  ...    1.000     0.000     0.000   \n",
       "\n",
       "   Compound  hashtags                         user_mentions_screen_name  \\\n",
       "0    0.4588       NaN                                        DasComrade   \n",
       "1   -0.5719       NaN                                               NaN   \n",
       "2    0.5719       NaN                                               NaN   \n",
       "3    0.4404       NaN  inclusivemind2,Ark82876233,BJP4India,RahulGandhi   \n",
       "4    0.0000       NaN                                      ManishTewari   \n",
       "\n",
       "        City          State Country       Score  \n",
       "0   Guwahati          Assam   India    0.045645  \n",
       "1     Mumbai    Maharashtra   India  108.990410  \n",
       "2    Kolkata    West Bengal   India   24.487725  \n",
       "3    Aligarh  Uttar Pradesh   India    0.091290  \n",
       "4  New Delhi          Delhi   India    8.263217  \n",
       "\n",
       "[5 rows x 21 columns]"
      ]
     },
     "execution_count": 7,
     "metadata": {},
     "output_type": "execute_result"
    }
   ],
   "source": [
    "data.head()"
   ]
  },
  {
   "cell_type": "code",
   "execution_count": 8,
   "id": "24eb1a96-534f-45fc-814a-a48e7038a621",
   "metadata": {
    "tags": []
   },
   "outputs": [],
   "source": [
    "data.drop(['tweet_id','Neutral','Positive','Negative','City','State','Country'],axis=1,inplace=True)"
   ]
  },
  {
   "cell_type": "code",
   "execution_count": 9,
   "id": "53a646a1-783c-4c34-8432-5033d8e88b1f",
   "metadata": {
    "tags": []
   },
   "outputs": [
    {
     "data": {
      "text/html": [
       "<div>\n",
       "<style scoped>\n",
       "    .dataframe tbody tr th:only-of-type {\n",
       "        vertical-align: middle;\n",
       "    }\n",
       "\n",
       "    .dataframe tbody tr th {\n",
       "        vertical-align: top;\n",
       "    }\n",
       "\n",
       "    .dataframe thead th {\n",
       "        text-align: right;\n",
       "    }\n",
       "</style>\n",
       "<table border=\"1\" class=\"dataframe\">\n",
       "  <thead>\n",
       "    <tr style=\"text-align: right;\">\n",
       "      <th></th>\n",
       "      <th>last_updated</th>\n",
       "      <th>created_at</th>\n",
       "      <th>full_text</th>\n",
       "      <th>processed_tweet</th>\n",
       "      <th>Party</th>\n",
       "      <th>quote_count</th>\n",
       "      <th>reply_count</th>\n",
       "      <th>retweet_count</th>\n",
       "      <th>Importance</th>\n",
       "      <th>favorite_count</th>\n",
       "      <th>Compound</th>\n",
       "      <th>hashtags</th>\n",
       "      <th>user_mentions_screen_name</th>\n",
       "      <th>Score</th>\n",
       "    </tr>\n",
       "  </thead>\n",
       "  <tbody>\n",
       "    <tr>\n",
       "      <th>0</th>\n",
       "      <td>2019-02-08 17:29:00</td>\n",
       "      <td>2019-02-08 17:28:00</td>\n",
       "      <td>@DasComrade Sir any comment on modi's grand en...</td>\n",
       "      <td>dascomrad sir comment modi grand entri</td>\n",
       "      <td>BJP</td>\n",
       "      <td>0.0</td>\n",
       "      <td>0.0</td>\n",
       "      <td>1.0</td>\n",
       "      <td>0</td>\n",
       "      <td>1</td>\n",
       "      <td>0.4588</td>\n",
       "      <td>NaN</td>\n",
       "      <td>DasComrade</td>\n",
       "      <td>0.045645</td>\n",
       "    </tr>\n",
       "    <tr>\n",
       "      <th>1</th>\n",
       "      <td>2019-02-08 17:29:00</td>\n",
       "      <td>2019-02-07 05:10:00</td>\n",
       "      <td>Congress made Vemula national talking point ev...</td>\n",
       "      <td>congress made vemula nation talk point even th...</td>\n",
       "      <td>BJP</td>\n",
       "      <td>47.0</td>\n",
       "      <td>72.0</td>\n",
       "      <td>2353.0</td>\n",
       "      <td>1</td>\n",
       "      <td>2353</td>\n",
       "      <td>-0.5719</td>\n",
       "      <td>NaN</td>\n",
       "      <td>NaN</td>\n",
       "      <td>108.990410</td>\n",
       "    </tr>\n",
       "    <tr>\n",
       "      <th>2</th>\n",
       "      <td>2019-02-08 17:30:00</td>\n",
       "      <td>2019-02-08 10:18:00</td>\n",
       "      <td>BJP has been winning battles over the past mon...</td>\n",
       "      <td>bjp win battl past month bengal pm modi arriv ...</td>\n",
       "      <td>BJP</td>\n",
       "      <td>1.0</td>\n",
       "      <td>12.0</td>\n",
       "      <td>513.0</td>\n",
       "      <td>1</td>\n",
       "      <td>513</td>\n",
       "      <td>0.5719</td>\n",
       "      <td>NaN</td>\n",
       "      <td>NaN</td>\n",
       "      <td>24.487725</td>\n",
       "    </tr>\n",
       "    <tr>\n",
       "      <th>3</th>\n",
       "      <td>2019-02-08 17:30:00</td>\n",
       "      <td>2019-02-08 17:29:00</td>\n",
       "      <td>@inclusivemind2 @Ark82876233 @BJP4India @Rahul...</td>\n",
       "      <td>inclusivemind ark bjpindia rahul gandhi bjp th...</td>\n",
       "      <td>Other</td>\n",
       "      <td>0.0</td>\n",
       "      <td>0.0</td>\n",
       "      <td>2.0</td>\n",
       "      <td>0</td>\n",
       "      <td>2</td>\n",
       "      <td>0.4404</td>\n",
       "      <td>NaN</td>\n",
       "      <td>inclusivemind2,Ark82876233,BJP4India,RahulGandhi</td>\n",
       "      <td>0.091290</td>\n",
       "    </tr>\n",
       "    <tr>\n",
       "      <th>4</th>\n",
       "      <td>2019-02-08 17:30:00</td>\n",
       "      <td>2019-02-08 14:19:00</td>\n",
       "      <td>Senior Congress leader @ManishTewari : There w...</td>\n",
       "      <td>senior congress leader manishtewari jpc defini...</td>\n",
       "      <td>Congress</td>\n",
       "      <td>0.0</td>\n",
       "      <td>1.0</td>\n",
       "      <td>159.0</td>\n",
       "      <td>1</td>\n",
       "      <td>159</td>\n",
       "      <td>0.0000</td>\n",
       "      <td>NaN</td>\n",
       "      <td>ManishTewari</td>\n",
       "      <td>8.263217</td>\n",
       "    </tr>\n",
       "  </tbody>\n",
       "</table>\n",
       "</div>"
      ],
      "text/plain": [
       "          last_updated           created_at  \\\n",
       "0  2019-02-08 17:29:00  2019-02-08 17:28:00   \n",
       "1  2019-02-08 17:29:00  2019-02-07 05:10:00   \n",
       "2  2019-02-08 17:30:00  2019-02-08 10:18:00   \n",
       "3  2019-02-08 17:30:00  2019-02-08 17:29:00   \n",
       "4  2019-02-08 17:30:00  2019-02-08 14:19:00   \n",
       "\n",
       "                                           full_text  \\\n",
       "0  @DasComrade Sir any comment on modi's grand en...   \n",
       "1  Congress made Vemula national talking point ev...   \n",
       "2  BJP has been winning battles over the past mon...   \n",
       "3  @inclusivemind2 @Ark82876233 @BJP4India @Rahul...   \n",
       "4  Senior Congress leader @ManishTewari : There w...   \n",
       "\n",
       "                                     processed_tweet     Party  quote_count  \\\n",
       "0             dascomrad sir comment modi grand entri       BJP          0.0   \n",
       "1  congress made vemula nation talk point even th...       BJP         47.0   \n",
       "2  bjp win battl past month bengal pm modi arriv ...       BJP          1.0   \n",
       "3  inclusivemind ark bjpindia rahul gandhi bjp th...     Other          0.0   \n",
       "4  senior congress leader manishtewari jpc defini...  Congress          0.0   \n",
       "\n",
       "   reply_count  retweet_count  Importance  favorite_count  Compound hashtags  \\\n",
       "0          0.0            1.0           0               1    0.4588      NaN   \n",
       "1         72.0         2353.0           1            2353   -0.5719      NaN   \n",
       "2         12.0          513.0           1             513    0.5719      NaN   \n",
       "3          0.0            2.0           0               2    0.4404      NaN   \n",
       "4          1.0          159.0           1             159    0.0000      NaN   \n",
       "\n",
       "                          user_mentions_screen_name       Score  \n",
       "0                                        DasComrade    0.045645  \n",
       "1                                               NaN  108.990410  \n",
       "2                                               NaN   24.487725  \n",
       "3  inclusivemind2,Ark82876233,BJP4India,RahulGandhi    0.091290  \n",
       "4                                      ManishTewari    8.263217  "
      ]
     },
     "execution_count": 9,
     "metadata": {},
     "output_type": "execute_result"
    }
   ],
   "source": [
    "data.head()"
   ]
  },
  {
   "cell_type": "code",
   "execution_count": 10,
   "id": "06b9d487-df47-4102-bab2-22afe2567aaf",
   "metadata": {
    "tags": []
   },
   "outputs": [],
   "source": [
    "data.drop(['user_mentions_screen_name'],axis=1,inplace=True)"
   ]
  },
  {
   "cell_type": "code",
   "execution_count": 11,
   "id": "7bbccdb1-389c-4bf4-ac0c-22da34ae4d43",
   "metadata": {
    "tags": []
   },
   "outputs": [
    {
     "data": {
      "text/html": [
       "<div>\n",
       "<style scoped>\n",
       "    .dataframe tbody tr th:only-of-type {\n",
       "        vertical-align: middle;\n",
       "    }\n",
       "\n",
       "    .dataframe tbody tr th {\n",
       "        vertical-align: top;\n",
       "    }\n",
       "\n",
       "    .dataframe thead th {\n",
       "        text-align: right;\n",
       "    }\n",
       "</style>\n",
       "<table border=\"1\" class=\"dataframe\">\n",
       "  <thead>\n",
       "    <tr style=\"text-align: right;\">\n",
       "      <th></th>\n",
       "      <th>last_updated</th>\n",
       "      <th>created_at</th>\n",
       "      <th>full_text</th>\n",
       "      <th>processed_tweet</th>\n",
       "      <th>Party</th>\n",
       "      <th>quote_count</th>\n",
       "      <th>reply_count</th>\n",
       "      <th>retweet_count</th>\n",
       "      <th>Importance</th>\n",
       "      <th>favorite_count</th>\n",
       "      <th>Compound</th>\n",
       "      <th>hashtags</th>\n",
       "      <th>Score</th>\n",
       "    </tr>\n",
       "  </thead>\n",
       "  <tbody>\n",
       "    <tr>\n",
       "      <th>0</th>\n",
       "      <td>2019-02-08 17:29:00</td>\n",
       "      <td>2019-02-08 17:28:00</td>\n",
       "      <td>@DasComrade Sir any comment on modi's grand en...</td>\n",
       "      <td>dascomrad sir comment modi grand entri</td>\n",
       "      <td>BJP</td>\n",
       "      <td>0.0</td>\n",
       "      <td>0.0</td>\n",
       "      <td>1.0</td>\n",
       "      <td>0</td>\n",
       "      <td>1</td>\n",
       "      <td>0.4588</td>\n",
       "      <td>NaN</td>\n",
       "      <td>0.045645</td>\n",
       "    </tr>\n",
       "    <tr>\n",
       "      <th>1</th>\n",
       "      <td>2019-02-08 17:29:00</td>\n",
       "      <td>2019-02-07 05:10:00</td>\n",
       "      <td>Congress made Vemula national talking point ev...</td>\n",
       "      <td>congress made vemula nation talk point even th...</td>\n",
       "      <td>BJP</td>\n",
       "      <td>47.0</td>\n",
       "      <td>72.0</td>\n",
       "      <td>2353.0</td>\n",
       "      <td>1</td>\n",
       "      <td>2353</td>\n",
       "      <td>-0.5719</td>\n",
       "      <td>NaN</td>\n",
       "      <td>108.990410</td>\n",
       "    </tr>\n",
       "    <tr>\n",
       "      <th>2</th>\n",
       "      <td>2019-02-08 17:30:00</td>\n",
       "      <td>2019-02-08 10:18:00</td>\n",
       "      <td>BJP has been winning battles over the past mon...</td>\n",
       "      <td>bjp win battl past month bengal pm modi arriv ...</td>\n",
       "      <td>BJP</td>\n",
       "      <td>1.0</td>\n",
       "      <td>12.0</td>\n",
       "      <td>513.0</td>\n",
       "      <td>1</td>\n",
       "      <td>513</td>\n",
       "      <td>0.5719</td>\n",
       "      <td>NaN</td>\n",
       "      <td>24.487725</td>\n",
       "    </tr>\n",
       "    <tr>\n",
       "      <th>3</th>\n",
       "      <td>2019-02-08 17:30:00</td>\n",
       "      <td>2019-02-08 17:29:00</td>\n",
       "      <td>@inclusivemind2 @Ark82876233 @BJP4India @Rahul...</td>\n",
       "      <td>inclusivemind ark bjpindia rahul gandhi bjp th...</td>\n",
       "      <td>Other</td>\n",
       "      <td>0.0</td>\n",
       "      <td>0.0</td>\n",
       "      <td>2.0</td>\n",
       "      <td>0</td>\n",
       "      <td>2</td>\n",
       "      <td>0.4404</td>\n",
       "      <td>NaN</td>\n",
       "      <td>0.091290</td>\n",
       "    </tr>\n",
       "    <tr>\n",
       "      <th>4</th>\n",
       "      <td>2019-02-08 17:30:00</td>\n",
       "      <td>2019-02-08 14:19:00</td>\n",
       "      <td>Senior Congress leader @ManishTewari : There w...</td>\n",
       "      <td>senior congress leader manishtewari jpc defini...</td>\n",
       "      <td>Congress</td>\n",
       "      <td>0.0</td>\n",
       "      <td>1.0</td>\n",
       "      <td>159.0</td>\n",
       "      <td>1</td>\n",
       "      <td>159</td>\n",
       "      <td>0.0000</td>\n",
       "      <td>NaN</td>\n",
       "      <td>8.263217</td>\n",
       "    </tr>\n",
       "  </tbody>\n",
       "</table>\n",
       "</div>"
      ],
      "text/plain": [
       "          last_updated           created_at  \\\n",
       "0  2019-02-08 17:29:00  2019-02-08 17:28:00   \n",
       "1  2019-02-08 17:29:00  2019-02-07 05:10:00   \n",
       "2  2019-02-08 17:30:00  2019-02-08 10:18:00   \n",
       "3  2019-02-08 17:30:00  2019-02-08 17:29:00   \n",
       "4  2019-02-08 17:30:00  2019-02-08 14:19:00   \n",
       "\n",
       "                                           full_text  \\\n",
       "0  @DasComrade Sir any comment on modi's grand en...   \n",
       "1  Congress made Vemula national talking point ev...   \n",
       "2  BJP has been winning battles over the past mon...   \n",
       "3  @inclusivemind2 @Ark82876233 @BJP4India @Rahul...   \n",
       "4  Senior Congress leader @ManishTewari : There w...   \n",
       "\n",
       "                                     processed_tweet     Party  quote_count  \\\n",
       "0             dascomrad sir comment modi grand entri       BJP          0.0   \n",
       "1  congress made vemula nation talk point even th...       BJP         47.0   \n",
       "2  bjp win battl past month bengal pm modi arriv ...       BJP          1.0   \n",
       "3  inclusivemind ark bjpindia rahul gandhi bjp th...     Other          0.0   \n",
       "4  senior congress leader manishtewari jpc defini...  Congress          0.0   \n",
       "\n",
       "   reply_count  retweet_count  Importance  favorite_count  Compound hashtags  \\\n",
       "0          0.0            1.0           0               1    0.4588      NaN   \n",
       "1         72.0         2353.0           1            2353   -0.5719      NaN   \n",
       "2         12.0          513.0           1             513    0.5719      NaN   \n",
       "3          0.0            2.0           0               2    0.4404      NaN   \n",
       "4          1.0          159.0           1             159    0.0000      NaN   \n",
       "\n",
       "        Score  \n",
       "0    0.045645  \n",
       "1  108.990410  \n",
       "2   24.487725  \n",
       "3    0.091290  \n",
       "4    8.263217  "
      ]
     },
     "execution_count": 11,
     "metadata": {},
     "output_type": "execute_result"
    }
   ],
   "source": [
    "data.head()"
   ]
  },
  {
   "cell_type": "code",
   "execution_count": 12,
   "id": "0d390eca-7c74-45fe-8053-678423661023",
   "metadata": {
    "tags": []
   },
   "outputs": [],
   "source": [
    "data.fillna(0,inplace=True)"
   ]
  },
  {
   "cell_type": "code",
   "execution_count": 13,
   "id": "d30b6424-e37f-48c7-ac94-cf9cc49578a3",
   "metadata": {
    "tags": []
   },
   "outputs": [
    {
     "data": {
      "text/html": [
       "<div>\n",
       "<style scoped>\n",
       "    .dataframe tbody tr th:only-of-type {\n",
       "        vertical-align: middle;\n",
       "    }\n",
       "\n",
       "    .dataframe tbody tr th {\n",
       "        vertical-align: top;\n",
       "    }\n",
       "\n",
       "    .dataframe thead th {\n",
       "        text-align: right;\n",
       "    }\n",
       "</style>\n",
       "<table border=\"1\" class=\"dataframe\">\n",
       "  <thead>\n",
       "    <tr style=\"text-align: right;\">\n",
       "      <th></th>\n",
       "      <th>last_updated</th>\n",
       "      <th>created_at</th>\n",
       "      <th>full_text</th>\n",
       "      <th>processed_tweet</th>\n",
       "      <th>Party</th>\n",
       "      <th>quote_count</th>\n",
       "      <th>reply_count</th>\n",
       "      <th>retweet_count</th>\n",
       "      <th>Importance</th>\n",
       "      <th>favorite_count</th>\n",
       "      <th>Compound</th>\n",
       "      <th>hashtags</th>\n",
       "      <th>Score</th>\n",
       "    </tr>\n",
       "  </thead>\n",
       "  <tbody>\n",
       "    <tr>\n",
       "      <th>0</th>\n",
       "      <td>2019-02-08 17:29:00</td>\n",
       "      <td>2019-02-08 17:28:00</td>\n",
       "      <td>@DasComrade Sir any comment on modi's grand en...</td>\n",
       "      <td>dascomrad sir comment modi grand entri</td>\n",
       "      <td>BJP</td>\n",
       "      <td>0.0</td>\n",
       "      <td>0.0</td>\n",
       "      <td>1.0</td>\n",
       "      <td>0</td>\n",
       "      <td>1</td>\n",
       "      <td>0.4588</td>\n",
       "      <td>0</td>\n",
       "      <td>0.045645</td>\n",
       "    </tr>\n",
       "    <tr>\n",
       "      <th>1</th>\n",
       "      <td>2019-02-08 17:29:00</td>\n",
       "      <td>2019-02-07 05:10:00</td>\n",
       "      <td>Congress made Vemula national talking point ev...</td>\n",
       "      <td>congress made vemula nation talk point even th...</td>\n",
       "      <td>BJP</td>\n",
       "      <td>47.0</td>\n",
       "      <td>72.0</td>\n",
       "      <td>2353.0</td>\n",
       "      <td>1</td>\n",
       "      <td>2353</td>\n",
       "      <td>-0.5719</td>\n",
       "      <td>0</td>\n",
       "      <td>108.990410</td>\n",
       "    </tr>\n",
       "    <tr>\n",
       "      <th>2</th>\n",
       "      <td>2019-02-08 17:30:00</td>\n",
       "      <td>2019-02-08 10:18:00</td>\n",
       "      <td>BJP has been winning battles over the past mon...</td>\n",
       "      <td>bjp win battl past month bengal pm modi arriv ...</td>\n",
       "      <td>BJP</td>\n",
       "      <td>1.0</td>\n",
       "      <td>12.0</td>\n",
       "      <td>513.0</td>\n",
       "      <td>1</td>\n",
       "      <td>513</td>\n",
       "      <td>0.5719</td>\n",
       "      <td>0</td>\n",
       "      <td>24.487725</td>\n",
       "    </tr>\n",
       "    <tr>\n",
       "      <th>3</th>\n",
       "      <td>2019-02-08 17:30:00</td>\n",
       "      <td>2019-02-08 17:29:00</td>\n",
       "      <td>@inclusivemind2 @Ark82876233 @BJP4India @Rahul...</td>\n",
       "      <td>inclusivemind ark bjpindia rahul gandhi bjp th...</td>\n",
       "      <td>Other</td>\n",
       "      <td>0.0</td>\n",
       "      <td>0.0</td>\n",
       "      <td>2.0</td>\n",
       "      <td>0</td>\n",
       "      <td>2</td>\n",
       "      <td>0.4404</td>\n",
       "      <td>0</td>\n",
       "      <td>0.091290</td>\n",
       "    </tr>\n",
       "    <tr>\n",
       "      <th>4</th>\n",
       "      <td>2019-02-08 17:30:00</td>\n",
       "      <td>2019-02-08 14:19:00</td>\n",
       "      <td>Senior Congress leader @ManishTewari : There w...</td>\n",
       "      <td>senior congress leader manishtewari jpc defini...</td>\n",
       "      <td>Congress</td>\n",
       "      <td>0.0</td>\n",
       "      <td>1.0</td>\n",
       "      <td>159.0</td>\n",
       "      <td>1</td>\n",
       "      <td>159</td>\n",
       "      <td>0.0000</td>\n",
       "      <td>0</td>\n",
       "      <td>8.263217</td>\n",
       "    </tr>\n",
       "  </tbody>\n",
       "</table>\n",
       "</div>"
      ],
      "text/plain": [
       "          last_updated           created_at  \\\n",
       "0  2019-02-08 17:29:00  2019-02-08 17:28:00   \n",
       "1  2019-02-08 17:29:00  2019-02-07 05:10:00   \n",
       "2  2019-02-08 17:30:00  2019-02-08 10:18:00   \n",
       "3  2019-02-08 17:30:00  2019-02-08 17:29:00   \n",
       "4  2019-02-08 17:30:00  2019-02-08 14:19:00   \n",
       "\n",
       "                                           full_text  \\\n",
       "0  @DasComrade Sir any comment on modi's grand en...   \n",
       "1  Congress made Vemula national talking point ev...   \n",
       "2  BJP has been winning battles over the past mon...   \n",
       "3  @inclusivemind2 @Ark82876233 @BJP4India @Rahul...   \n",
       "4  Senior Congress leader @ManishTewari : There w...   \n",
       "\n",
       "                                     processed_tweet     Party  quote_count  \\\n",
       "0             dascomrad sir comment modi grand entri       BJP          0.0   \n",
       "1  congress made vemula nation talk point even th...       BJP         47.0   \n",
       "2  bjp win battl past month bengal pm modi arriv ...       BJP          1.0   \n",
       "3  inclusivemind ark bjpindia rahul gandhi bjp th...     Other          0.0   \n",
       "4  senior congress leader manishtewari jpc defini...  Congress          0.0   \n",
       "\n",
       "   reply_count  retweet_count  Importance  favorite_count  Compound hashtags  \\\n",
       "0          0.0            1.0           0               1    0.4588        0   \n",
       "1         72.0         2353.0           1            2353   -0.5719        0   \n",
       "2         12.0          513.0           1             513    0.5719        0   \n",
       "3          0.0            2.0           0               2    0.4404        0   \n",
       "4          1.0          159.0           1             159    0.0000        0   \n",
       "\n",
       "        Score  \n",
       "0    0.045645  \n",
       "1  108.990410  \n",
       "2   24.487725  \n",
       "3    0.091290  \n",
       "4    8.263217  "
      ]
     },
     "execution_count": 13,
     "metadata": {},
     "output_type": "execute_result"
    }
   ],
   "source": [
    "data.head()"
   ]
  },
  {
   "cell_type": "code",
   "execution_count": 14,
   "id": "595611dd-bff6-4a5d-b9e6-09823ffb4e04",
   "metadata": {
    "tags": []
   },
   "outputs": [
    {
     "data": {
      "text/plain": [
       "Index(['last_updated', 'created_at', 'full_text', 'processed_tweet', 'Party',\n",
       "       'quote_count', 'reply_count', 'retweet_count', 'Importance',\n",
       "       'favorite_count', 'Compound', 'hashtags', 'Score'],\n",
       "      dtype='object')"
      ]
     },
     "execution_count": 14,
     "metadata": {},
     "output_type": "execute_result"
    }
   ],
   "source": [
    "data.columns"
   ]
  },
  {
   "cell_type": "code",
   "execution_count": 14,
   "id": "b7dcab41-aa27-481f-8785-0d841fe525e8",
   "metadata": {},
   "outputs": [],
   "source": []
  },
  {
   "cell_type": "code",
   "execution_count": 16,
   "id": "66ad47bf-d60e-4829-888a-084caf06cabe",
   "metadata": {},
   "outputs": [],
   "source": []
  },
  {
   "cell_type": "code",
   "execution_count": 15,
   "id": "cbc69744-c44e-4c87-be1d-f1390ee787a4",
   "metadata": {
    "tags": []
   },
   "outputs": [],
   "source": [
    "data = data[data['Compound']<0]"
   ]
  },
  {
   "cell_type": "code",
   "execution_count": 17,
   "id": "e6c66465-df99-4068-9e14-f1c85654df50",
   "metadata": {
    "tags": []
   },
   "outputs": [],
   "source": [
    "data.to_csv('Datasets/Data Extracted/data.csv')"
   ]
  },
  {
   "cell_type": "code",
   "execution_count": 18,
   "id": "c59755f2-1426-4e2d-8f4b-febde552fd84",
   "metadata": {
    "tags": []
   },
   "outputs": [],
   "source": [
    "data_full_text = pd.DataFrame(data['full_text'])"
   ]
  },
  {
   "cell_type": "code",
   "execution_count": 19,
   "id": "311278af-e4cc-4524-822e-ce1205beeb29",
   "metadata": {
    "tags": []
   },
   "outputs": [],
   "source": [
    "data_full_text.to_csv('Datasets/Data Extracted/data_full_text.csv')"
   ]
  },
  {
   "cell_type": "code",
   "execution_count": 20,
   "id": "af047822-1244-4c76-ac5d-eb4fa6caafde",
   "metadata": {
    "tags": []
   },
   "outputs": [
    {
     "data": {
      "text/plain": [
       "14119"
      ]
     },
     "execution_count": 20,
     "metadata": {},
     "output_type": "execute_result"
    }
   ],
   "source": [
    "len(data)"
   ]
  },
  {
   "cell_type": "code",
   "execution_count": 21,
   "id": "f761756d-b7d8-456f-9bc1-3ef1fd0008bb",
   "metadata": {
    "tags": []
   },
   "outputs": [
    {
     "data": {
      "text/plain": [
       "14119"
      ]
     },
     "execution_count": 21,
     "metadata": {},
     "output_type": "execute_result"
    }
   ],
   "source": [
    "len(data_full_text)"
   ]
  },
  {
   "cell_type": "code",
   "execution_count": 22,
   "id": "bb1eb81a-2513-4254-a0b7-32bea872a71a",
   "metadata": {
    "tags": []
   },
   "outputs": [],
   "source": [
    "triggers = pd.read_csv('Datasets/Data Extracted/5000triggers.csv')"
   ]
  },
  {
   "cell_type": "code",
   "execution_count": 23,
   "id": "b791b598-3736-4f6e-9293-11ab7711537a",
   "metadata": {
    "tags": []
   },
   "outputs": [
    {
     "data": {
      "text/html": [
       "<div>\n",
       "<style scoped>\n",
       "    .dataframe tbody tr th:only-of-type {\n",
       "        vertical-align: middle;\n",
       "    }\n",
       "\n",
       "    .dataframe tbody tr th {\n",
       "        vertical-align: top;\n",
       "    }\n",
       "\n",
       "    .dataframe thead th {\n",
       "        text-align: right;\n",
       "    }\n",
       "</style>\n",
       "<table border=\"1\" class=\"dataframe\">\n",
       "  <thead>\n",
       "    <tr style=\"text-align: right;\">\n",
       "      <th></th>\n",
       "      <th>Unnamed: 0</th>\n",
       "      <th>0</th>\n",
       "      <th>1</th>\n",
       "      <th>2</th>\n",
       "      <th>3</th>\n",
       "      <th>4</th>\n",
       "    </tr>\n",
       "  </thead>\n",
       "  <tbody>\n",
       "    <tr>\n",
       "      <th>0</th>\n",
       "      <td>0</td>\n",
       "      <td>dalit discourse</td>\n",
       "      <td>NaN</td>\n",
       "      <td>NaN</td>\n",
       "      <td>NaN</td>\n",
       "      <td>NaN</td>\n",
       "    </tr>\n",
       "    <tr>\n",
       "      <th>1</th>\n",
       "      <td>1</td>\n",
       "      <td>NaN</td>\n",
       "      <td>NaN</td>\n",
       "      <td>NaN</td>\n",
       "      <td>NaN</td>\n",
       "      <td>NaN</td>\n",
       "    </tr>\n",
       "    <tr>\n",
       "      <th>2</th>\n",
       "      <td>2</td>\n",
       "      <td>NaN</td>\n",
       "      <td>NaN</td>\n",
       "      <td>NaN</td>\n",
       "      <td>NaN</td>\n",
       "      <td>NaN</td>\n",
       "    </tr>\n",
       "    <tr>\n",
       "      <th>3</th>\n",
       "      <td>3</td>\n",
       "      <td>defence secretary</td>\n",
       "      <td>NaN</td>\n",
       "      <td>NaN</td>\n",
       "      <td>NaN</td>\n",
       "      <td>NaN</td>\n",
       "    </tr>\n",
       "    <tr>\n",
       "      <th>4</th>\n",
       "      <td>4</td>\n",
       "      <td>fake campaign</td>\n",
       "      <td>NaN</td>\n",
       "      <td>NaN</td>\n",
       "      <td>NaN</td>\n",
       "      <td>NaN</td>\n",
       "    </tr>\n",
       "    <tr>\n",
       "      <th>...</th>\n",
       "      <td>...</td>\n",
       "      <td>...</td>\n",
       "      <td>...</td>\n",
       "      <td>...</td>\n",
       "      <td>...</td>\n",
       "      <td>...</td>\n",
       "    </tr>\n",
       "    <tr>\n",
       "      <th>5893</th>\n",
       "      <td>5893</td>\n",
       "      <td>terrorist cong</td>\n",
       "      <td>terrorists pakis</td>\n",
       "      <td>congis different</td>\n",
       "      <td>NaN</td>\n",
       "      <td>NaN</td>\n",
       "    </tr>\n",
       "    <tr>\n",
       "      <th>5894</th>\n",
       "      <td>5894</td>\n",
       "      <td>gave bjp</td>\n",
       "      <td>bjp</td>\n",
       "      <td>bjp an</td>\n",
       "      <td>shame rahullovesterrorists</td>\n",
       "      <td>NaN</td>\n",
       "    </tr>\n",
       "    <tr>\n",
       "      <th>5895</th>\n",
       "      <td>5895</td>\n",
       "      <td>pakistan modioncemore</td>\n",
       "      <td>NaN</td>\n",
       "      <td>NaN</td>\n",
       "      <td>NaN</td>\n",
       "      <td>NaN</td>\n",
       "    </tr>\n",
       "    <tr>\n",
       "      <th>5896</th>\n",
       "      <td>5896</td>\n",
       "      <td>demonetisation disaster</td>\n",
       "      <td>demonetisationyaadrakhna</td>\n",
       "      <td>NaN</td>\n",
       "      <td>NaN</td>\n",
       "      <td>NaN</td>\n",
       "    </tr>\n",
       "    <tr>\n",
       "      <th>5897</th>\n",
       "      <td>5897</td>\n",
       "      <td>vs bjp</td>\n",
       "      <td>bjp</td>\n",
       "      <td>NaN</td>\n",
       "      <td>NaN</td>\n",
       "      <td>NaN</td>\n",
       "    </tr>\n",
       "  </tbody>\n",
       "</table>\n",
       "<p>5898 rows × 6 columns</p>\n",
       "</div>"
      ],
      "text/plain": [
       "      Unnamed: 0                        0                         1  \\\n",
       "0              0          dalit discourse                       NaN   \n",
       "1              1                      NaN                       NaN   \n",
       "2              2                      NaN                       NaN   \n",
       "3              3        defence secretary                       NaN   \n",
       "4              4            fake campaign                       NaN   \n",
       "...          ...                      ...                       ...   \n",
       "5893        5893           terrorist cong          terrorists pakis   \n",
       "5894        5894                 gave bjp                       bjp   \n",
       "5895        5895    pakistan modioncemore                       NaN   \n",
       "5896        5896  demonetisation disaster  demonetisationyaadrakhna   \n",
       "5897        5897                   vs bjp                       bjp   \n",
       "\n",
       "                     2                           3    4  \n",
       "0                  NaN                         NaN  NaN  \n",
       "1                  NaN                         NaN  NaN  \n",
       "2                  NaN                         NaN  NaN  \n",
       "3                  NaN                         NaN  NaN  \n",
       "4                  NaN                         NaN  NaN  \n",
       "...                ...                         ...  ...  \n",
       "5893  congis different                         NaN  NaN  \n",
       "5894            bjp an  shame rahullovesterrorists  NaN  \n",
       "5895               NaN                         NaN  NaN  \n",
       "5896               NaN                         NaN  NaN  \n",
       "5897               NaN                         NaN  NaN  \n",
       "\n",
       "[5898 rows x 6 columns]"
      ]
     },
     "execution_count": 23,
     "metadata": {},
     "output_type": "execute_result"
    }
   ],
   "source": [
    "triggers"
   ]
  },
  {
   "cell_type": "code",
   "execution_count": 24,
   "id": "95ac50e8-9cf6-4938-9674-0206a2cb2b94",
   "metadata": {
    "tags": []
   },
   "outputs": [],
   "source": [
    "triggers.drop('Unnamed: 0',axis=1,inplace=True)"
   ]
  },
  {
   "cell_type": "code",
   "execution_count": 60,
   "id": "6fbdecff-5fbb-4d6a-9f08-3e3974b18f44",
   "metadata": {
    "tags": []
   },
   "outputs": [],
   "source": [
    "triggers_list = [[y for y in x if pd.notna(y)] for x in triggers.values.tolist()]"
   ]
  },
  {
   "cell_type": "code",
   "execution_count": 61,
   "id": "9e6e0de8-6a8e-4104-b820-e858cd651268",
   "metadata": {
    "tags": []
   },
   "outputs": [],
   "source": [
    "triggers.fillna(0,inplace = True)"
   ]
  },
  {
   "cell_type": "code",
   "execution_count": 62,
   "id": "22182cfe-6767-4e51-a213-df625489b5c7",
   "metadata": {
    "scrolled": true,
    "tags": []
   },
   "outputs": [
    {
     "data": {
      "text/html": [
       "<div>\n",
       "<style scoped>\n",
       "    .dataframe tbody tr th:only-of-type {\n",
       "        vertical-align: middle;\n",
       "    }\n",
       "\n",
       "    .dataframe tbody tr th {\n",
       "        vertical-align: top;\n",
       "    }\n",
       "\n",
       "    .dataframe thead th {\n",
       "        text-align: right;\n",
       "    }\n",
       "</style>\n",
       "<table border=\"1\" class=\"dataframe\">\n",
       "  <thead>\n",
       "    <tr style=\"text-align: right;\">\n",
       "      <th></th>\n",
       "      <th>0</th>\n",
       "      <th>1</th>\n",
       "      <th>2</th>\n",
       "      <th>3</th>\n",
       "      <th>4</th>\n",
       "    </tr>\n",
       "  </thead>\n",
       "  <tbody>\n",
       "    <tr>\n",
       "      <th>0</th>\n",
       "      <td>dalit discourse</td>\n",
       "      <td>0</td>\n",
       "      <td>0</td>\n",
       "      <td>0</td>\n",
       "      <td>0</td>\n",
       "    </tr>\n",
       "    <tr>\n",
       "      <th>1</th>\n",
       "      <td>0</td>\n",
       "      <td>0</td>\n",
       "      <td>0</td>\n",
       "      <td>0</td>\n",
       "      <td>0</td>\n",
       "    </tr>\n",
       "    <tr>\n",
       "      <th>2</th>\n",
       "      <td>0</td>\n",
       "      <td>0</td>\n",
       "      <td>0</td>\n",
       "      <td>0</td>\n",
       "      <td>0</td>\n",
       "    </tr>\n",
       "    <tr>\n",
       "      <th>3</th>\n",
       "      <td>defence secretary</td>\n",
       "      <td>0</td>\n",
       "      <td>0</td>\n",
       "      <td>0</td>\n",
       "      <td>0</td>\n",
       "    </tr>\n",
       "    <tr>\n",
       "      <th>4</th>\n",
       "      <td>fake campaign</td>\n",
       "      <td>0</td>\n",
       "      <td>0</td>\n",
       "      <td>0</td>\n",
       "      <td>0</td>\n",
       "    </tr>\n",
       "    <tr>\n",
       "      <th>...</th>\n",
       "      <td>...</td>\n",
       "      <td>...</td>\n",
       "      <td>...</td>\n",
       "      <td>...</td>\n",
       "      <td>...</td>\n",
       "    </tr>\n",
       "    <tr>\n",
       "      <th>5893</th>\n",
       "      <td>terrorist cong</td>\n",
       "      <td>terrorists pakis</td>\n",
       "      <td>congis different</td>\n",
       "      <td>0</td>\n",
       "      <td>0</td>\n",
       "    </tr>\n",
       "    <tr>\n",
       "      <th>5894</th>\n",
       "      <td>gave bjp</td>\n",
       "      <td>bjp</td>\n",
       "      <td>bjp an</td>\n",
       "      <td>shame rahullovesterrorists</td>\n",
       "      <td>0</td>\n",
       "    </tr>\n",
       "    <tr>\n",
       "      <th>5895</th>\n",
       "      <td>pakistan modioncemore</td>\n",
       "      <td>0</td>\n",
       "      <td>0</td>\n",
       "      <td>0</td>\n",
       "      <td>0</td>\n",
       "    </tr>\n",
       "    <tr>\n",
       "      <th>5896</th>\n",
       "      <td>demonetisation disaster</td>\n",
       "      <td>demonetisationyaadrakhna</td>\n",
       "      <td>0</td>\n",
       "      <td>0</td>\n",
       "      <td>0</td>\n",
       "    </tr>\n",
       "    <tr>\n",
       "      <th>5897</th>\n",
       "      <td>vs bjp</td>\n",
       "      <td>bjp</td>\n",
       "      <td>0</td>\n",
       "      <td>0</td>\n",
       "      <td>0</td>\n",
       "    </tr>\n",
       "  </tbody>\n",
       "</table>\n",
       "<p>5898 rows × 5 columns</p>\n",
       "</div>"
      ],
      "text/plain": [
       "                            0                         1                 2  \\\n",
       "0             dalit discourse                         0                 0   \n",
       "1                           0                         0                 0   \n",
       "2                           0                         0                 0   \n",
       "3           defence secretary                         0                 0   \n",
       "4               fake campaign                         0                 0   \n",
       "...                       ...                       ...               ...   \n",
       "5893           terrorist cong          terrorists pakis  congis different   \n",
       "5894                 gave bjp                       bjp            bjp an   \n",
       "5895    pakistan modioncemore                         0                 0   \n",
       "5896  demonetisation disaster  demonetisationyaadrakhna                 0   \n",
       "5897                   vs bjp                       bjp                 0   \n",
       "\n",
       "                               3  4  \n",
       "0                              0  0  \n",
       "1                              0  0  \n",
       "2                              0  0  \n",
       "3                              0  0  \n",
       "4                              0  0  \n",
       "...                          ... ..  \n",
       "5893                           0  0  \n",
       "5894  shame rahullovesterrorists  0  \n",
       "5895                           0  0  \n",
       "5896                           0  0  \n",
       "5897                           0  0  \n",
       "\n",
       "[5898 rows x 5 columns]"
      ]
     },
     "execution_count": 62,
     "metadata": {},
     "output_type": "execute_result"
    }
   ],
   "source": [
    "triggers"
   ]
  },
  {
   "cell_type": "code",
   "execution_count": null,
   "id": "0fe9e3ff-cbe3-447b-bf61-a0eb88734422",
   "metadata": {},
   "outputs": [],
   "source": []
  },
  {
   "cell_type": "code",
   "execution_count": 63,
   "id": "9696917f-c8a3-46f5-8d74-70c67a34c3be",
   "metadata": {
    "tags": []
   },
   "outputs": [
    {
     "data": {
      "text/html": [
       "<div>\n",
       "<style scoped>\n",
       "    .dataframe tbody tr th:only-of-type {\n",
       "        vertical-align: middle;\n",
       "    }\n",
       "\n",
       "    .dataframe tbody tr th {\n",
       "        vertical-align: top;\n",
       "    }\n",
       "\n",
       "    .dataframe thead th {\n",
       "        text-align: right;\n",
       "    }\n",
       "</style>\n",
       "<table border=\"1\" class=\"dataframe\">\n",
       "  <thead>\n",
       "    <tr style=\"text-align: right;\">\n",
       "      <th></th>\n",
       "      <th>0</th>\n",
       "      <th>1</th>\n",
       "      <th>2</th>\n",
       "      <th>3</th>\n",
       "      <th>4</th>\n",
       "    </tr>\n",
       "  </thead>\n",
       "  <tbody>\n",
       "    <tr>\n",
       "      <th>0</th>\n",
       "      <td>dalit discourse</td>\n",
       "      <td>0</td>\n",
       "      <td>0</td>\n",
       "      <td>0</td>\n",
       "      <td>0</td>\n",
       "    </tr>\n",
       "    <tr>\n",
       "      <th>1</th>\n",
       "      <td>0</td>\n",
       "      <td>0</td>\n",
       "      <td>0</td>\n",
       "      <td>0</td>\n",
       "      <td>0</td>\n",
       "    </tr>\n",
       "    <tr>\n",
       "      <th>2</th>\n",
       "      <td>0</td>\n",
       "      <td>0</td>\n",
       "      <td>0</td>\n",
       "      <td>0</td>\n",
       "      <td>0</td>\n",
       "    </tr>\n",
       "    <tr>\n",
       "      <th>3</th>\n",
       "      <td>defence secretary</td>\n",
       "      <td>0</td>\n",
       "      <td>0</td>\n",
       "      <td>0</td>\n",
       "      <td>0</td>\n",
       "    </tr>\n",
       "    <tr>\n",
       "      <th>4</th>\n",
       "      <td>fake campaign</td>\n",
       "      <td>0</td>\n",
       "      <td>0</td>\n",
       "      <td>0</td>\n",
       "      <td>0</td>\n",
       "    </tr>\n",
       "  </tbody>\n",
       "</table>\n",
       "</div>"
      ],
      "text/plain": [
       "                   0  1  2  3  4\n",
       "0    dalit discourse  0  0  0  0\n",
       "1                  0  0  0  0  0\n",
       "2                  0  0  0  0  0\n",
       "3  defence secretary  0  0  0  0\n",
       "4      fake campaign  0  0  0  0"
      ]
     },
     "execution_count": 63,
     "metadata": {},
     "output_type": "execute_result"
    }
   ],
   "source": [
    "triggers.head()"
   ]
  },
  {
   "cell_type": "code",
   "execution_count": 64,
   "id": "8adfb603-9aa2-4956-ae5f-cf15fcf42fac",
   "metadata": {
    "tags": []
   },
   "outputs": [],
   "source": [
    "triggers.to_csv('Datasets/FinalTriggers.csv')"
   ]
  },
  {
   "cell_type": "code",
   "execution_count": 65,
   "id": "bbcfd7df-9cc4-4c16-90fe-da3a73a622ae",
   "metadata": {
    "tags": []
   },
   "outputs": [],
   "source": [
    "def CheckHate(sent):\n",
    "    import requests\n",
    "    url = \"https://text-moderator.p.rapidapi.com/api/v1/moderate\"\n",
    "    payload = { \"input\": sent }\n",
    "    headers = {\n",
    "        \"content-type\": \"application/json\",\n",
    "        \"X-RapidAPI-Key\": \"a64eedac50mshd91efa213f0c2a7p1901dcjsnaf67556610b7\",\n",
    "        \"X-RapidAPI-Host\": \"text-moderator.p.rapidapi.com\"\n",
    "    }\n",
    "    response = requests.post(url, json=payload, headers=headers)\n",
    "    doc1 = list(response.json().values())\n",
    "    \n",
    "    if(mean(doc1)>=0.1):\n",
    "        return True\n",
    "    else:\n",
    "        return False"
   ]
  },
  {
   "cell_type": "code",
   "execution_count": 31,
   "id": "7347226f-ac3b-42da-94a3-76983e4e62f4",
   "metadata": {
    "tags": []
   },
   "outputs": [
    {
     "name": "stdout",
     "output_type": "stream",
     "text": [
      "False\n"
     ]
    }
   ],
   "source": [
    "print(CheckHate('dalit discourse'))"
   ]
  },
  {
   "cell_type": "code",
   "execution_count": 32,
   "id": "9d0b39e1-a597-436c-8793-ea18fac32c92",
   "metadata": {
    "tags": []
   },
   "outputs": [
    {
     "name": "stdout",
     "output_type": "stream",
     "text": [
      "True\n"
     ]
    }
   ],
   "source": [
    "print(CheckHate('terrorist cong'))"
   ]
  },
  {
   "cell_type": "code",
   "execution_count": 33,
   "id": "88d48e01-b2ce-47a4-a611-8c0438c2c368",
   "metadata": {
    "tags": []
   },
   "outputs": [
    {
     "name": "stdout",
     "output_type": "stream",
     "text": [
      "True\n"
     ]
    }
   ],
   "source": [
    "print(CheckHate('pakistan modioncemore'))"
   ]
  },
  {
   "cell_type": "code",
   "execution_count": null,
   "id": "3ac5868d-81bc-43fb-9962-955432aa249c",
   "metadata": {},
   "outputs": [],
   "source": []
  },
  {
   "cell_type": "code",
   "execution_count": 49,
   "id": "470faa57-f5a7-4042-9fe5-81c38576a309",
   "metadata": {
    "tags": []
   },
   "outputs": [],
   "source": [
    "# def KeyBert(sent):\n",
    "#     mylist = KeyBert(sent, 2)\n",
    "#     triggers_in_sent = [tuples[0] for tuples in mylist if tuples[1]>0.5]\n",
    "#     found_triggers.append(triggers_in_sent)\n",
    "#     return found_triggers"
   ]
  },
  {
   "cell_type": "code",
   "execution_count": 56,
   "id": "5577db9f-7092-492b-8dbe-cbef4fcc8cdd",
   "metadata": {
    "tags": []
   },
   "outputs": [],
   "source": [
    "def KeyBert(doc,i):\n",
    "    from keybert import KeyBERT\n",
    "    kw_model = KeyBERT()\n",
    "    keywords = kw_model.extract_keywords(doc)\n",
    "    return kw_model.extract_keywords(doc, keyphrase_ngram_range=(1, i), stop_words=None)"
   ]
  },
  {
   "cell_type": "code",
   "execution_count": null,
   "id": "f5005bff-d5a5-478e-84cd-6afb91235e4e",
   "metadata": {},
   "outputs": [],
   "source": []
  },
  {
   "cell_type": "code",
   "execution_count": 37,
   "id": "b3318f69-b6c5-439e-9a22-28f9baae102d",
   "metadata": {
    "tags": []
   },
   "outputs": [],
   "source": [
    "import spacy"
   ]
  },
  {
   "cell_type": "code",
   "execution_count": 41,
   "id": "db089ac3-4ce6-47bd-a1d6-4906709b4e94",
   "metadata": {
    "tags": []
   },
   "outputs": [],
   "source": [
    "# !python -m spacy download en_core_web_md"
   ]
  },
  {
   "cell_type": "code",
   "execution_count": 39,
   "id": "57c23384-3029-470d-9604-ebfd4fe9fc76",
   "metadata": {
    "tags": []
   },
   "outputs": [],
   "source": [
    "nlp = spacy.load(\"en_core_web_md\")"
   ]
  },
  {
   "cell_type": "code",
   "execution_count": null,
   "id": "0f98dbea-2470-40ec-9cdf-5c1c6f0b9038",
   "metadata": {},
   "outputs": [],
   "source": []
  },
  {
   "cell_type": "code",
   "execution_count": 57,
   "id": "30b4013b-032e-411d-819b-20d904378586",
   "metadata": {
    "tags": []
   },
   "outputs": [],
   "source": [
    "def find_most_similar_triggers(input_sentence):\n",
    "    similarity_dict = {}\n",
    "    input_sent_keywords = KeyBert(input_sentence, 2)\n",
    "    n = len(input_sent_keywords)\n",
    "    for ind, sent in enumerate(triggers_list):\n",
    "        m = len(sent)\n",
    "        if m == 0:\n",
    "            similarity_dict[ind] = 0\n",
    "            continue\n",
    "        similarity = 0\n",
    "        for topic in sent:\n",
    "            for phrase, _ in input_sent_keywords:\n",
    "                phrase = nlp(phrase)\n",
    "                topic = nlp(topic)\n",
    "                similarity += phrase.similarity(topic)\n",
    "        similarity /= m*n\n",
    "        # if max_similarity < similarity:\n",
    "        #     max_similarity = similarity\n",
    "        #     max_similarity_index = ind\n",
    "        similarity_dict[ind] = similarity\n",
    "    return sorted(similarity_dict.items(), reverse = True, key = lambda x:x[1])"
   ]
  },
  {
   "cell_type": "code",
   "execution_count": 58,
   "id": "db624c50-de00-4157-9645-b0e6b1d8c15a",
   "metadata": {
    "tags": []
   },
   "outputs": [],
   "source": [
    "input_sentence = \"After years of neglect under Rahul Gandhi, Amethi is finally seeing phenomenal progress under the BJP leadership!#RahulFailedAmethi\""
   ]
  },
  {
   "cell_type": "code",
   "execution_count": 59,
   "id": "840db508-c969-4f94-ba2d-517374b70d95",
   "metadata": {
    "tags": []
   },
   "outputs": [
    {
     "ename": "AttributeError",
     "evalue": "'CountVectorizer' object has no attribute 'get_feature_names'",
     "output_type": "error",
     "traceback": [
      "\u001b[1;31m---------------------------------------------------------------------------\u001b[0m",
      "\u001b[1;31mAttributeError\u001b[0m                            Traceback (most recent call last)",
      "Cell \u001b[1;32mIn[59], line 1\u001b[0m\n\u001b[1;32m----> 1\u001b[0m similarity_list \u001b[38;5;241m=\u001b[39m \u001b[43mfind_most_similar_triggers\u001b[49m\u001b[43m(\u001b[49m\u001b[43minput_sentence\u001b[49m\u001b[43m)\u001b[49m\n",
      "Cell \u001b[1;32mIn[57], line 3\u001b[0m, in \u001b[0;36mfind_most_similar_triggers\u001b[1;34m(input_sentence)\u001b[0m\n\u001b[0;32m      1\u001b[0m \u001b[38;5;28;01mdef\u001b[39;00m \u001b[38;5;21mfind_most_similar_triggers\u001b[39m(input_sentence):\n\u001b[0;32m      2\u001b[0m     similarity_dict \u001b[38;5;241m=\u001b[39m {}\n\u001b[1;32m----> 3\u001b[0m     input_sent_keywords \u001b[38;5;241m=\u001b[39m \u001b[43mKeyBert\u001b[49m\u001b[43m(\u001b[49m\u001b[43minput_sentence\u001b[49m\u001b[43m,\u001b[49m\u001b[43m \u001b[49m\u001b[38;5;241;43m2\u001b[39;49m\u001b[43m)\u001b[49m\n\u001b[0;32m      4\u001b[0m     n \u001b[38;5;241m=\u001b[39m \u001b[38;5;28mlen\u001b[39m(input_sent_keywords)\n\u001b[0;32m      5\u001b[0m     \u001b[38;5;28;01mfor\u001b[39;00m ind, sent \u001b[38;5;129;01min\u001b[39;00m \u001b[38;5;28menumerate\u001b[39m(triggers_list):\n",
      "Cell \u001b[1;32mIn[56], line 4\u001b[0m, in \u001b[0;36mKeyBert\u001b[1;34m(doc, i)\u001b[0m\n\u001b[0;32m      2\u001b[0m \u001b[38;5;28;01mfrom\u001b[39;00m \u001b[38;5;21;01mkeybert\u001b[39;00m \u001b[38;5;28;01mimport\u001b[39;00m KeyBERT\n\u001b[0;32m      3\u001b[0m kw_model \u001b[38;5;241m=\u001b[39m KeyBERT()\n\u001b[1;32m----> 4\u001b[0m keywords \u001b[38;5;241m=\u001b[39m \u001b[43mkw_model\u001b[49m\u001b[38;5;241;43m.\u001b[39;49m\u001b[43mextract_keywords\u001b[49m\u001b[43m(\u001b[49m\u001b[43mdoc\u001b[49m\u001b[43m)\u001b[49m\n\u001b[0;32m      5\u001b[0m \u001b[38;5;28;01mreturn\u001b[39;00m kw_model\u001b[38;5;241m.\u001b[39mextract_keywords(doc, keyphrase_ngram_range\u001b[38;5;241m=\u001b[39m(\u001b[38;5;241m1\u001b[39m, i), stop_words\u001b[38;5;241m=\u001b[39m\u001b[38;5;28;01mNone\u001b[39;00m)\n",
      "File \u001b[1;32m~\\AppData\\Local\\Programs\\Python\\Python311\\Lib\\site-packages\\keybert\\_model.py:111\u001b[0m, in \u001b[0;36mKeyBERT.extract_keywords\u001b[1;34m(self, docs, candidates, keyphrase_ngram_range, stop_words, top_n, min_df, use_maxsum, use_mmr, diversity, nr_candidates, vectorizer, highlight, seed_keywords)\u001b[0m\n\u001b[0;32m     68\u001b[0m \u001b[38;5;250m\u001b[39m\u001b[38;5;124;03m\"\"\"Extract keywords and/or keyphrases\u001b[39;00m\n\u001b[0;32m     69\u001b[0m \n\u001b[0;32m     70\u001b[0m \u001b[38;5;124;03mI would advise you to iterate over single documents as they\u001b[39;00m\n\u001b[1;32m   (...)\u001b[0m\n\u001b[0;32m    107\u001b[0m \n\u001b[0;32m    108\u001b[0m \u001b[38;5;124;03m\"\"\"\u001b[39;00m\n\u001b[0;32m    110\u001b[0m \u001b[38;5;28;01mif\u001b[39;00m \u001b[38;5;28misinstance\u001b[39m(docs, \u001b[38;5;28mstr\u001b[39m):\n\u001b[1;32m--> 111\u001b[0m     keywords \u001b[38;5;241m=\u001b[39m \u001b[38;5;28;43mself\u001b[39;49m\u001b[38;5;241;43m.\u001b[39;49m\u001b[43m_extract_keywords_single_doc\u001b[49m\u001b[43m(\u001b[49m\n\u001b[0;32m    112\u001b[0m \u001b[43m        \u001b[49m\u001b[43mdoc\u001b[49m\u001b[38;5;241;43m=\u001b[39;49m\u001b[43mdocs\u001b[49m\u001b[43m,\u001b[49m\n\u001b[0;32m    113\u001b[0m \u001b[43m        \u001b[49m\u001b[43mcandidates\u001b[49m\u001b[38;5;241;43m=\u001b[39;49m\u001b[43mcandidates\u001b[49m\u001b[43m,\u001b[49m\n\u001b[0;32m    114\u001b[0m \u001b[43m        \u001b[49m\u001b[43mkeyphrase_ngram_range\u001b[49m\u001b[38;5;241;43m=\u001b[39;49m\u001b[43mkeyphrase_ngram_range\u001b[49m\u001b[43m,\u001b[49m\n\u001b[0;32m    115\u001b[0m \u001b[43m        \u001b[49m\u001b[43mstop_words\u001b[49m\u001b[38;5;241;43m=\u001b[39;49m\u001b[43mstop_words\u001b[49m\u001b[43m,\u001b[49m\n\u001b[0;32m    116\u001b[0m \u001b[43m        \u001b[49m\u001b[43mtop_n\u001b[49m\u001b[38;5;241;43m=\u001b[39;49m\u001b[43mtop_n\u001b[49m\u001b[43m,\u001b[49m\n\u001b[0;32m    117\u001b[0m \u001b[43m        \u001b[49m\u001b[43muse_maxsum\u001b[49m\u001b[38;5;241;43m=\u001b[39;49m\u001b[43muse_maxsum\u001b[49m\u001b[43m,\u001b[49m\n\u001b[0;32m    118\u001b[0m \u001b[43m        \u001b[49m\u001b[43muse_mmr\u001b[49m\u001b[38;5;241;43m=\u001b[39;49m\u001b[43muse_mmr\u001b[49m\u001b[43m,\u001b[49m\n\u001b[0;32m    119\u001b[0m \u001b[43m        \u001b[49m\u001b[43mdiversity\u001b[49m\u001b[38;5;241;43m=\u001b[39;49m\u001b[43mdiversity\u001b[49m\u001b[43m,\u001b[49m\n\u001b[0;32m    120\u001b[0m \u001b[43m        \u001b[49m\u001b[43mnr_candidates\u001b[49m\u001b[38;5;241;43m=\u001b[39;49m\u001b[43mnr_candidates\u001b[49m\u001b[43m,\u001b[49m\n\u001b[0;32m    121\u001b[0m \u001b[43m        \u001b[49m\u001b[43mvectorizer\u001b[49m\u001b[38;5;241;43m=\u001b[39;49m\u001b[43mvectorizer\u001b[49m\u001b[43m,\u001b[49m\n\u001b[0;32m    122\u001b[0m \u001b[43m        \u001b[49m\u001b[43mseed_keywords\u001b[49m\u001b[38;5;241;43m=\u001b[39;49m\u001b[43mseed_keywords\u001b[49m\u001b[43m,\u001b[49m\n\u001b[0;32m    123\u001b[0m \u001b[43m    \u001b[49m\u001b[43m)\u001b[49m\n\u001b[0;32m    124\u001b[0m     \u001b[38;5;28;01mif\u001b[39;00m highlight:\n\u001b[0;32m    125\u001b[0m         highlight_document(docs, keywords)\n",
      "File \u001b[1;32m~\\AppData\\Local\\Programs\\Python\\Python311\\Lib\\site-packages\\keybert\\_model.py:182\u001b[0m, in \u001b[0;36mKeyBERT._extract_keywords_single_doc\u001b[1;34m(self, doc, candidates, keyphrase_ngram_range, stop_words, top_n, use_maxsum, use_mmr, diversity, nr_candidates, vectorizer, seed_keywords)\u001b[0m\n\u001b[0;32m    178\u001b[0m     \u001b[38;5;28;01melse\u001b[39;00m:\n\u001b[0;32m    179\u001b[0m         count \u001b[38;5;241m=\u001b[39m CountVectorizer(\n\u001b[0;32m    180\u001b[0m             ngram_range\u001b[38;5;241m=\u001b[39mkeyphrase_ngram_range, stop_words\u001b[38;5;241m=\u001b[39mstop_words\n\u001b[0;32m    181\u001b[0m         )\u001b[38;5;241m.\u001b[39mfit([doc])\n\u001b[1;32m--> 182\u001b[0m     candidates \u001b[38;5;241m=\u001b[39m \u001b[43mcount\u001b[49m\u001b[38;5;241;43m.\u001b[39;49m\u001b[43mget_feature_names\u001b[49m()\n\u001b[0;32m    184\u001b[0m \u001b[38;5;66;03m# Extract Embeddings\u001b[39;00m\n\u001b[0;32m    185\u001b[0m doc_embedding \u001b[38;5;241m=\u001b[39m \u001b[38;5;28mself\u001b[39m\u001b[38;5;241m.\u001b[39mmodel\u001b[38;5;241m.\u001b[39membed([doc])\n",
      "\u001b[1;31mAttributeError\u001b[0m: 'CountVectorizer' object has no attribute 'get_feature_names'"
     ]
    }
   ],
   "source": [
    "similarity_list = find_most_similar_triggers(input_sentence)"
   ]
  },
  {
   "cell_type": "code",
   "execution_count": null,
   "id": "26545e95-adb1-43e0-a976-e6e51d0fc0ad",
   "metadata": {},
   "outputs": [],
   "source": [
    "similarity_list[:10]"
   ]
  }
 ],
 "metadata": {
  "kernelspec": {
   "display_name": "Python 3 (ipykernel)",
   "language": "python",
   "name": "python3"
  },
  "language_info": {
   "codemirror_mode": {
    "name": "ipython",
    "version": 3
   },
   "file_extension": ".py",
   "mimetype": "text/x-python",
   "name": "python",
   "nbconvert_exporter": "python",
   "pygments_lexer": "ipython3",
   "version": "3.11.3"
  }
 },
 "nbformat": 4,
 "nbformat_minor": 5
}
